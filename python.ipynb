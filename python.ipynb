{
  "cells": [
    {
      "cell_type": "markdown",
      "metadata": {
        "id": "view-in-github",
        "colab_type": "text"
      },
      "source": [
        "<a href=\"https://colab.research.google.com/github/Kiddo69/Contact-Book/blob/main/python.ipynb\" target=\"_parent\"><img src=\"https://colab.research.google.com/assets/colab-badge.svg\" alt=\"Open In Colab\"/></a>"
      ]
    },
    {
      "cell_type": "code",
      "source": [
        "import random \n",
        "number = random.randint(1,10)\n",
        "player = input(\" Hello gamer! what is your name: \")\n",
        "print('welcome '+ player + \" we are playing a guessing game\")\n",
        "print(\"Guess a number 1 - 10\")\n",
        "number_of_guesses = 0\n",
        "while number_of_guesses<3:\n",
        "  guess = int(input())\n",
        "  number_of_guesses += 1\n",
        "  if guess < number:\n",
        "    print(\"your guess is low\")\n",
        "  if guess > number:\n",
        "      print(\"your guess is too high\")\n",
        "  \n",
        "  if guess == number:\n",
        "    break\n",
        "if guess == number:\n",
        "    print('You guessed the number in ' + str(number_of_guesses) + ' tries!')\n",
        "else:\n",
        "    print('You did not guess the number, The number was ' + str(number))\n",
        "\n",
        "  \n",
        "  \n",
        "\n",
        "  \n",
        "\n",
        "    \n",
        "   \n",
        "\n",
        "\n",
        "\n"
      ],
      "metadata": {
        "colab": {
          "base_uri": "https://localhost:8080/"
        },
        "id": "HJtO_zBi7OGH",
        "outputId": "cebfa6de-4ff6-43d8-d742-da64b2efb7e2"
      },
      "execution_count": 33,
      "outputs": [
        {
          "output_type": "stream",
          "name": "stdout",
          "text": [
            " Hello gamer! what is your name: 7\n",
            "welcome 7 we are playing a guessing game\n",
            "Guess a number 1 - 10\n",
            "7\n",
            "your guess is too high\n",
            "4\n",
            "your guess is too high\n",
            "1\n",
            "your guess is low\n",
            "You did not guess the number, The number was 2\n"
          ]
        }
      ]
    }
  ],
  "metadata": {
    "colab": {
      "provenance": [],
      "authorship_tag": "ABX9TyPmnkeYo10QWLwi7UAxMtVn",
      "include_colab_link": true
    },
    "kernelspec": {
      "display_name": "Python 3",
      "name": "python3"
    },
    "language_info": {
      "name": "python"
    }
  },
  "nbformat": 4,
  "nbformat_minor": 0
}