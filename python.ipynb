{
  "cells": [
    {
      "cell_type": "markdown",
      "metadata": {
        "id": "view-in-github",
        "colab_type": "text"
      },
      "source": [
        "<a href=\"https://colab.research.google.com/github/Kiddo69/Contact-Book/blob/main/python.ipynb\" target=\"_parent\"><img src=\"https://colab.research.google.com/assets/colab-badge.svg\" alt=\"Open In Colab\"/></a>"
      ]
    },
    {
      "cell_type": "code",
      "source": [
        "4\n"
      ],
      "metadata": {
        "id": "MU33BNF62E2f"
      },
      "execution_count": null,
      "outputs": []
    },
    {
      "cell_type": "code",
      "source": [
        "import random                                                                    # Importing the random module that selects a random item from a sequence \n",
        "number = random.randint(1,10)                                                    # Assigning randon value for the computer. \n",
        "player = input(\" Hello gamer! what is your name: \")                              # Asking user to write his/her name. \n",
        "print('welcome '+ player + \" we are playing a guessing game\")                    \n",
        "number_of_guesses = 0                                                            # Initalizing the number of guess of user.\n",
        "wants_to_play=True                                                                \n",
        "while wants_to_play:                                                             \n",
        "  number_of_guesses = 0\n",
        "  while number_of_guesses<3:                                                     #\n",
        "    print(\"Guess a number 1 - 10\")\n",
        "\n",
        "    guess = int(input())                                                         #\n",
        "    number_of_guesses += 1                                                       #\n",
        "    if guess < number:                                                           #    \n",
        "      print(\"your guess is low\")                                                 #\n",
        "    if guess > number:                                                           #\n",
        "      print(\"your guess is too high\")                                            #\n",
        "  \n",
        "    if guess == number:                                                          #\n",
        "      print('You guessed the number in ' + str(number_of_guesses) + ' tries!')   #\n",
        "      play = input(\"do you want to play again? reply by (y/n)==> \")              #\n",
        "      if play in ['Y','y','YES','Yes',\"yes\"]:                                    #\n",
        "        wants_to_play=True                                                       #\n",
        "      else:                                                                      #\n",
        "        wants_to_play=False                                                      #\n",
        "    if number_of_guesses==3:                                                     #\n",
        "       play = input(\"do you want to play again? reply by (y/n)==> \")             #\n",
        "    if play in ['Y','y','YES','Yes',\"yes\"]:                                      #\n",
        "      play = \"y\"                                                                 #\n",
        "      wants_to_play=True                                                         #\n",
        "    else:                                                                        #                     \n",
        "        wants_to_play=False                                                      #\n",
        "  \n",
        "    \n",
        "print(\"You didnt guess correctly, the correct number was \"+str(number))\n",
        "\n",
        "\n",
        "\n",
        "\n",
        "  \n",
        "  \n",
        "\n",
        "  \n",
        "\n",
        "    \n",
        "   \n",
        "\n",
        "\n",
        "\n"
      ],
      "metadata": {
        "id": "HJtO_zBi7OGH"
      },
      "execution_count": null,
      "outputs": []
    },
    {
      "cell_type": "code",
      "source": [],
      "metadata": {
        "id": "JkaD9dApRMVi"
      },
      "execution_count": null,
      "outputs": []
    },
    {
      "cell_type": "code",
      "source": [],
      "metadata": {
        "id": "0ZsflowKRM54"
      },
      "execution_count": null,
      "outputs": []
    },
    {
      "cell_type": "code",
      "source": [],
      "metadata": {
        "id": "P3wI_JNQRNL1"
      },
      "execution_count": null,
      "outputs": []
    }
  ],
  "metadata": {
    "colab": {
      "provenance": [],
      "authorship_tag": "ABX9TyOJ1mqVnjIU5BhIADG2wO9/",
      "include_colab_link": true
    },
    "kernelspec": {
      "display_name": "Python 3",
      "name": "python3"
    },
    "language_info": {
      "name": "python"
    }
  },
  "nbformat": 4,
  "nbformat_minor": 0
}